{
 "cells": [
  {
   "cell_type": "code",
   "execution_count": 2,
   "metadata": {},
   "outputs": [],
   "source": [
    "#Import pandas\n",
    "import pandas as pd"
   ]
  },
  {
   "cell_type": "code",
   "execution_count": 3,
   "metadata": {},
   "outputs": [],
   "source": [
    "# Importcsv library\n",
    "import csv"
   ]
  },
  {
   "cell_type": "code",
   "execution_count": 4,
   "metadata": {},
   "outputs": [],
   "source": [
    "# Set the file path\n",
    "df = pd.read_csv(\"./Resources/budget_data.csv\")"
   ]
  },
  {
   "cell_type": "code",
   "execution_count": 5,
   "metadata": {},
   "outputs": [
    {
     "data": {
      "text/html": [
       "<div>\n",
       "<style scoped>\n",
       "    .dataframe tbody tr th:only-of-type {\n",
       "        vertical-align: middle;\n",
       "    }\n",
       "\n",
       "    .dataframe tbody tr th {\n",
       "        vertical-align: top;\n",
       "    }\n",
       "\n",
       "    .dataframe thead th {\n",
       "        text-align: right;\n",
       "    }\n",
       "</style>\n",
       "<table border=\"1\" class=\"dataframe\">\n",
       "  <thead>\n",
       "    <tr style=\"text-align: right;\">\n",
       "      <th></th>\n",
       "      <th>Date</th>\n",
       "      <th>Profit/Losses</th>\n",
       "    </tr>\n",
       "  </thead>\n",
       "  <tbody>\n",
       "    <tr>\n",
       "      <th>0</th>\n",
       "      <td>Jan-2010</td>\n",
       "      <td>867884</td>\n",
       "    </tr>\n",
       "    <tr>\n",
       "      <th>1</th>\n",
       "      <td>Feb-2010</td>\n",
       "      <td>984655</td>\n",
       "    </tr>\n",
       "    <tr>\n",
       "      <th>2</th>\n",
       "      <td>Mar-2010</td>\n",
       "      <td>322013</td>\n",
       "    </tr>\n",
       "    <tr>\n",
       "      <th>3</th>\n",
       "      <td>Apr-2010</td>\n",
       "      <td>-69417</td>\n",
       "    </tr>\n",
       "    <tr>\n",
       "      <th>4</th>\n",
       "      <td>May-2010</td>\n",
       "      <td>310503</td>\n",
       "    </tr>\n",
       "  </tbody>\n",
       "</table>\n",
       "</div>"
      ],
      "text/plain": [
       "       Date  Profit/Losses\n",
       "0  Jan-2010         867884\n",
       "1  Feb-2010         984655\n",
       "2  Mar-2010         322013\n",
       "3  Apr-2010         -69417\n",
       "4  May-2010         310503"
      ]
     },
     "execution_count": 5,
     "metadata": {},
     "output_type": "execute_result"
    }
   ],
   "source": [
    "# Running a preview of the data set for visibility \n",
    "df.head(5)"
   ]
  },
  {
   "cell_type": "code",
   "execution_count": 117,
   "metadata": {},
   "outputs": [
    {
     "name": "stdout",
     "output_type": "stream",
     "text": [
      "Financial Analysis\n",
      "----------------------------\n",
      "Total months: 86\n",
      "Total: $38382578\n",
      "Average  Change: $-2315.12\n",
      "Greatest Increase in Profits:Feb-2012 ($1926159.0)\n",
      "Greatest Decrease in Profits:Sep-2013 ($-2196167.0)\n"
     ]
    }
   ],
   "source": [
    "# Declaring the Date column as a list\n",
    "months = df[\"Date\"].to_list()\n",
    "\n",
    "# The total number of months included in the dataset.\n",
    "total_months = len(months)\n",
    " \n",
    "# The net total amount of Profit/Losses over the entire period.\n",
    "\n",
    "pnl = df[\"Profit/Losses\"].to_list()\n",
    "\n",
    "net_pnl = sum(pnl)\n",
    "\n",
    "# create pnl_delta column\n",
    "df['pnl_delta'] = df[\"Profit/Losses\"].diff(1)\n",
    "\n",
    "# The average of the changes in Profit/Losses over the entire period.\n",
    "avg_delta = df[\"pnl_delta\"].mean()\n",
    "\n",
    "# Avg_delta clean up to 2 decimals\n",
    "avg_delta = round(avg_delta,2)\n",
    "\n",
    "\n",
    "pos_delta = df.loc[df['pnl_delta'].idxmax()]\n",
    "\n",
    "# find highest delta (pos_delta) and highest neg delta (neg_delta) in document\n",
    "neg_delta = df.loc[df['pnl_delta'].idxmin()]\n",
    "\n",
    "# Print output \n",
    "print(f\"Financial Analysis\")\n",
    "print(f\"----------------------------\")\n",
    "print(f\"Total months: {total_months}\")\n",
    "print(f\"Total: ${net_pnl}\")\n",
    "print(f\"Average  Change: ${avg_delta}\")\n",
    "print(f\"Greatest Increase in Profits:{pos_delta.iloc[0]} (${pos_delta.iloc[2]})\")\n",
    "print(f\"Greatest Decrease in Profits:{neg_delta.iloc[0]} (${neg_delta.iloc[2]})\")"
   ]
  }
 ],
 "metadata": {
  "kernelspec": {
   "display_name": "Python 3",
   "language": "python",
   "name": "python3"
  },
  "language_info": {
   "codemirror_mode": {
    "name": "ipython",
    "version": 3
   },
   "file_extension": ".py",
   "mimetype": "text/x-python",
   "name": "python",
   "nbconvert_exporter": "python",
   "pygments_lexer": "ipython3",
   "version": "3.7.9"
  }
 },
 "nbformat": 4,
 "nbformat_minor": 4
}
